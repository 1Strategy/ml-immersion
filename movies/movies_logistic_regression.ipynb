{
 "cells": [
  {
   "cell_type": "markdown",
   "metadata": {},
   "source": [
    "# 1Strategy ML Immersion Day\n",
    "### Building an xgboost model from movie data"
   ]
  },
  {
   "cell_type": "code",
   "execution_count": 1,
   "metadata": {},
   "outputs": [],
   "source": [
    "import json\n",
    "import math\n",
    "import sys\n",
    "\n",
    "import boto3\n",
    "import matplotlib.pyplot as plt\n",
    "import numpy as np\n",
    "import pandas as pd\n",
    "import sagemaker as sm\n",
    "from sagemaker.amazon.amazon_estimator import get_image_uri\n",
    "\n",
    "import workshop_utils as wu\n",
    "\n",
    "# prevent warnings from displaying\n",
    "import warnings\n",
    "warnings.filterwarnings('ignore')"
   ]
  },
  {
   "cell_type": "markdown",
   "metadata": {},
   "source": [
    "## Initialize variables"
   ]
  },
  {
   "cell_type": "code",
   "execution_count": 2,
   "metadata": {},
   "outputs": [
    {
     "name": "stdout",
     "output_type": "stream",
     "text": [
      "IAM Role: arn:aws:iam::842337631775:role/service-role/AmazonSageMaker-ExecutionRole-20190722T122244\n"
     ]
    }
   ],
   "source": [
    "bucket    = '1s-ml'\n",
    "# !!!!!!!!!!!!!!!!!!\n",
    "# PUT YOUR NAME HERE\n",
    "your_name = 'agraves'\n",
    "\n",
    "model_artifacts_location = f's3://{bucket}/movies/artifacts/{your_name}'\n",
    "\n",
    "role = sm.get_execution_role()\n",
    "sm_session = sm.session.Session()\n",
    "\n",
    "print(f'IAM Role: {role}')\n",
    "\n",
    "ratings = 'movies/data/title.ratings.tsv'\n",
    "basics = 'movies/data/title.basics.tsv'"
   ]
  },
  {
   "cell_type": "markdown",
   "metadata": {},
   "source": [
    "### A note about this data\n",
    "source: https://datasets.imdbws.com\n",
    "\n",
    "We will be downloading the data from S3 in order to inspect it and perform any cleanup necessary before we train our model."
   ]
  },
  {
   "cell_type": "code",
   "execution_count": 3,
   "metadata": {},
   "outputs": [],
   "source": [
    "s3 = boto3.resource('s3')\n",
    "s3.Bucket(bucket).download_file(ratings, 'ratings.tsv')\n",
    "s3.Bucket(bucket).download_file(basics, 'basics.tsv')"
   ]
  },
  {
   "cell_type": "code",
   "execution_count": 4,
   "metadata": {},
   "outputs": [
    {
     "name": "stdout",
     "output_type": "stream",
     "text": [
      "Movie Data Shape: (977590, 11)\n"
     ]
    },
    {
     "data": {
      "text/html": [
       "<div>\n",
       "<style scoped>\n",
       "    .dataframe tbody tr th:only-of-type {\n",
       "        vertical-align: middle;\n",
       "    }\n",
       "\n",
       "    .dataframe tbody tr th {\n",
       "        vertical-align: top;\n",
       "    }\n",
       "\n",
       "    .dataframe thead th {\n",
       "        text-align: right;\n",
       "    }\n",
       "</style>\n",
       "<table border=\"1\" class=\"dataframe\">\n",
       "  <thead>\n",
       "    <tr style=\"text-align: right;\">\n",
       "      <th></th>\n",
       "      <th>tconst</th>\n",
       "      <th>averageRating</th>\n",
       "      <th>numVotes</th>\n",
       "      <th>titleType</th>\n",
       "      <th>primaryTitle</th>\n",
       "      <th>originalTitle</th>\n",
       "      <th>isAdult</th>\n",
       "      <th>startYear</th>\n",
       "      <th>endYear</th>\n",
       "      <th>runtimeMinutes</th>\n",
       "      <th>genres</th>\n",
       "    </tr>\n",
       "  </thead>\n",
       "  <tbody>\n",
       "    <tr>\n",
       "      <th>0</th>\n",
       "      <td>tt0000001</td>\n",
       "      <td>5.6</td>\n",
       "      <td>1539</td>\n",
       "      <td>short</td>\n",
       "      <td>Carmencita</td>\n",
       "      <td>Carmencita</td>\n",
       "      <td>0</td>\n",
       "      <td>1894</td>\n",
       "      <td>\\N</td>\n",
       "      <td>1</td>\n",
       "      <td>Documentary,Short</td>\n",
       "    </tr>\n",
       "    <tr>\n",
       "      <th>1</th>\n",
       "      <td>tt0000002</td>\n",
       "      <td>6.1</td>\n",
       "      <td>186</td>\n",
       "      <td>short</td>\n",
       "      <td>Le clown et ses chiens</td>\n",
       "      <td>Le clown et ses chiens</td>\n",
       "      <td>0</td>\n",
       "      <td>1892</td>\n",
       "      <td>\\N</td>\n",
       "      <td>5</td>\n",
       "      <td>Animation,Short</td>\n",
       "    </tr>\n",
       "    <tr>\n",
       "      <th>2</th>\n",
       "      <td>tt0000003</td>\n",
       "      <td>6.5</td>\n",
       "      <td>1198</td>\n",
       "      <td>short</td>\n",
       "      <td>Pauvre Pierrot</td>\n",
       "      <td>Pauvre Pierrot</td>\n",
       "      <td>0</td>\n",
       "      <td>1892</td>\n",
       "      <td>\\N</td>\n",
       "      <td>4</td>\n",
       "      <td>Animation,Comedy,Romance</td>\n",
       "    </tr>\n",
       "    <tr>\n",
       "      <th>3</th>\n",
       "      <td>tt0000004</td>\n",
       "      <td>6.2</td>\n",
       "      <td>114</td>\n",
       "      <td>short</td>\n",
       "      <td>Un bon bock</td>\n",
       "      <td>Un bon bock</td>\n",
       "      <td>0</td>\n",
       "      <td>1892</td>\n",
       "      <td>\\N</td>\n",
       "      <td>\\N</td>\n",
       "      <td>Animation,Short</td>\n",
       "    </tr>\n",
       "    <tr>\n",
       "      <th>4</th>\n",
       "      <td>tt0000005</td>\n",
       "      <td>6.1</td>\n",
       "      <td>1910</td>\n",
       "      <td>short</td>\n",
       "      <td>Blacksmith Scene</td>\n",
       "      <td>Blacksmith Scene</td>\n",
       "      <td>0</td>\n",
       "      <td>1893</td>\n",
       "      <td>\\N</td>\n",
       "      <td>1</td>\n",
       "      <td>Comedy,Short</td>\n",
       "    </tr>\n",
       "    <tr>\n",
       "      <th>5</th>\n",
       "      <td>tt0000006</td>\n",
       "      <td>5.2</td>\n",
       "      <td>103</td>\n",
       "      <td>short</td>\n",
       "      <td>Chinese Opium Den</td>\n",
       "      <td>Chinese Opium Den</td>\n",
       "      <td>0</td>\n",
       "      <td>1894</td>\n",
       "      <td>\\N</td>\n",
       "      <td>1</td>\n",
       "      <td>Short</td>\n",
       "    </tr>\n",
       "    <tr>\n",
       "      <th>6</th>\n",
       "      <td>tt0000007</td>\n",
       "      <td>5.4</td>\n",
       "      <td>612</td>\n",
       "      <td>short</td>\n",
       "      <td>Corbett and Courtney Before the Kinetograph</td>\n",
       "      <td>Corbett and Courtney Before the Kinetograph</td>\n",
       "      <td>0</td>\n",
       "      <td>1894</td>\n",
       "      <td>\\N</td>\n",
       "      <td>1</td>\n",
       "      <td>Short,Sport</td>\n",
       "    </tr>\n",
       "    <tr>\n",
       "      <th>7</th>\n",
       "      <td>tt0000008</td>\n",
       "      <td>5.4</td>\n",
       "      <td>1644</td>\n",
       "      <td>short</td>\n",
       "      <td>Edison Kinetoscopic Record of a Sneeze</td>\n",
       "      <td>Edison Kinetoscopic Record of a Sneeze</td>\n",
       "      <td>0</td>\n",
       "      <td>1894</td>\n",
       "      <td>\\N</td>\n",
       "      <td>1</td>\n",
       "      <td>Documentary,Short</td>\n",
       "    </tr>\n",
       "    <tr>\n",
       "      <th>8</th>\n",
       "      <td>tt0000009</td>\n",
       "      <td>5.4</td>\n",
       "      <td>81</td>\n",
       "      <td>movie</td>\n",
       "      <td>Miss Jerry</td>\n",
       "      <td>Miss Jerry</td>\n",
       "      <td>0</td>\n",
       "      <td>1894</td>\n",
       "      <td>\\N</td>\n",
       "      <td>45</td>\n",
       "      <td>Romance</td>\n",
       "    </tr>\n",
       "    <tr>\n",
       "      <th>9</th>\n",
       "      <td>tt0000010</td>\n",
       "      <td>6.9</td>\n",
       "      <td>5488</td>\n",
       "      <td>short</td>\n",
       "      <td>Exiting the Factory</td>\n",
       "      <td>La sortie de l'usine Lumière à Lyon</td>\n",
       "      <td>0</td>\n",
       "      <td>1895</td>\n",
       "      <td>\\N</td>\n",
       "      <td>1</td>\n",
       "      <td>Documentary,Short</td>\n",
       "    </tr>\n",
       "    <tr>\n",
       "      <th>10</th>\n",
       "      <td>tt0000011</td>\n",
       "      <td>5.2</td>\n",
       "      <td>234</td>\n",
       "      <td>short</td>\n",
       "      <td>Akrobatisches Potpourri</td>\n",
       "      <td>Akrobatisches Potpourri</td>\n",
       "      <td>0</td>\n",
       "      <td>1895</td>\n",
       "      <td>\\N</td>\n",
       "      <td>1</td>\n",
       "      <td>Documentary,Short</td>\n",
       "    </tr>\n",
       "    <tr>\n",
       "      <th>11</th>\n",
       "      <td>tt0000012</td>\n",
       "      <td>7.4</td>\n",
       "      <td>9314</td>\n",
       "      <td>short</td>\n",
       "      <td>The Arrival of a Train</td>\n",
       "      <td>L'arrivée d'un train à La Ciotat</td>\n",
       "      <td>0</td>\n",
       "      <td>1896</td>\n",
       "      <td>\\N</td>\n",
       "      <td>1</td>\n",
       "      <td>Action,Documentary,Short</td>\n",
       "    </tr>\n",
       "    <tr>\n",
       "      <th>12</th>\n",
       "      <td>tt0000013</td>\n",
       "      <td>5.7</td>\n",
       "      <td>1428</td>\n",
       "      <td>short</td>\n",
       "      <td>The Photographical Congress Arrives in Lyon</td>\n",
       "      <td>Neuville-sur-Saône: Débarquement du congrès de...</td>\n",
       "      <td>0</td>\n",
       "      <td>1895</td>\n",
       "      <td>\\N</td>\n",
       "      <td>1</td>\n",
       "      <td>Documentary,Short</td>\n",
       "    </tr>\n",
       "    <tr>\n",
       "      <th>13</th>\n",
       "      <td>tt0000014</td>\n",
       "      <td>7.1</td>\n",
       "      <td>4067</td>\n",
       "      <td>short</td>\n",
       "      <td>The Sprinkler Sprinkled</td>\n",
       "      <td>L'arroseur arrosé</td>\n",
       "      <td>0</td>\n",
       "      <td>1895</td>\n",
       "      <td>\\N</td>\n",
       "      <td>1</td>\n",
       "      <td>Comedy,Short</td>\n",
       "    </tr>\n",
       "    <tr>\n",
       "      <th>14</th>\n",
       "      <td>tt0000015</td>\n",
       "      <td>6.1</td>\n",
       "      <td>736</td>\n",
       "      <td>short</td>\n",
       "      <td>Autour d'une cabine</td>\n",
       "      <td>Autour d'une cabine</td>\n",
       "      <td>0</td>\n",
       "      <td>1894</td>\n",
       "      <td>\\N</td>\n",
       "      <td>2</td>\n",
       "      <td>Animation,Short</td>\n",
       "    </tr>\n",
       "  </tbody>\n",
       "</table>\n",
       "</div>"
      ],
      "text/plain": [
       "       tconst  averageRating  numVotes titleType  \\\n",
       "0   tt0000001            5.6      1539     short   \n",
       "1   tt0000002            6.1       186     short   \n",
       "2   tt0000003            6.5      1198     short   \n",
       "3   tt0000004            6.2       114     short   \n",
       "4   tt0000005            6.1      1910     short   \n",
       "5   tt0000006            5.2       103     short   \n",
       "6   tt0000007            5.4       612     short   \n",
       "7   tt0000008            5.4      1644     short   \n",
       "8   tt0000009            5.4        81     movie   \n",
       "9   tt0000010            6.9      5488     short   \n",
       "10  tt0000011            5.2       234     short   \n",
       "11  tt0000012            7.4      9314     short   \n",
       "12  tt0000013            5.7      1428     short   \n",
       "13  tt0000014            7.1      4067     short   \n",
       "14  tt0000015            6.1       736     short   \n",
       "\n",
       "                                   primaryTitle  \\\n",
       "0                                    Carmencita   \n",
       "1                        Le clown et ses chiens   \n",
       "2                                Pauvre Pierrot   \n",
       "3                                   Un bon bock   \n",
       "4                              Blacksmith Scene   \n",
       "5                             Chinese Opium Den   \n",
       "6   Corbett and Courtney Before the Kinetograph   \n",
       "7        Edison Kinetoscopic Record of a Sneeze   \n",
       "8                                    Miss Jerry   \n",
       "9                           Exiting the Factory   \n",
       "10                      Akrobatisches Potpourri   \n",
       "11                       The Arrival of a Train   \n",
       "12  The Photographical Congress Arrives in Lyon   \n",
       "13                      The Sprinkler Sprinkled   \n",
       "14                          Autour d'une cabine   \n",
       "\n",
       "                                        originalTitle  isAdult startYear  \\\n",
       "0                                          Carmencita        0      1894   \n",
       "1                              Le clown et ses chiens        0      1892   \n",
       "2                                      Pauvre Pierrot        0      1892   \n",
       "3                                         Un bon bock        0      1892   \n",
       "4                                    Blacksmith Scene        0      1893   \n",
       "5                                   Chinese Opium Den        0      1894   \n",
       "6         Corbett and Courtney Before the Kinetograph        0      1894   \n",
       "7              Edison Kinetoscopic Record of a Sneeze        0      1894   \n",
       "8                                          Miss Jerry        0      1894   \n",
       "9                 La sortie de l'usine Lumière à Lyon        0      1895   \n",
       "10                            Akrobatisches Potpourri        0      1895   \n",
       "11                   L'arrivée d'un train à La Ciotat        0      1896   \n",
       "12  Neuville-sur-Saône: Débarquement du congrès de...        0      1895   \n",
       "13                                  L'arroseur arrosé        0      1895   \n",
       "14                                Autour d'une cabine        0      1894   \n",
       "\n",
       "   endYear runtimeMinutes                    genres  \n",
       "0       \\N              1         Documentary,Short  \n",
       "1       \\N              5           Animation,Short  \n",
       "2       \\N              4  Animation,Comedy,Romance  \n",
       "3       \\N             \\N           Animation,Short  \n",
       "4       \\N              1              Comedy,Short  \n",
       "5       \\N              1                     Short  \n",
       "6       \\N              1               Short,Sport  \n",
       "7       \\N              1         Documentary,Short  \n",
       "8       \\N             45                   Romance  \n",
       "9       \\N              1         Documentary,Short  \n",
       "10      \\N              1         Documentary,Short  \n",
       "11      \\N              1  Action,Documentary,Short  \n",
       "12      \\N              1         Documentary,Short  \n",
       "13      \\N              1              Comedy,Short  \n",
       "14      \\N              2           Animation,Short  "
      ]
     },
     "execution_count": 4,
     "metadata": {},
     "output_type": "execute_result"
    }
   ],
   "source": [
    "ratings_csv = pd.read_csv('ratings.tsv', sep='\\t')\n",
    "basics_csv = pd.read_csv('basics.tsv', sep='\\t')\n",
    "movie_data = pd.merge(ratings_csv, basics_csv, how='inner', on='tconst')\n",
    "print(f'Movie Data Shape: {movie_data.shape}')\n",
    "\n",
    "movie_data.head(15)"
   ]
  },
  {
   "cell_type": "markdown",
   "metadata": {},
   "source": [
    "## Cleanup\n",
    "\n",
    "There are several unecessary columns in this data as well as observations we aren't concerned about. This is an investigation of movie ratings, so we can eliminate the rows which contain data about television shows. This data also contains records from silent films. We can make a reasonable assumption that silent film appreciation is a bit different than modern film appreciation, so we will drop these observations as well."
   ]
  },
  {
   "cell_type": "code",
   "execution_count": 5,
   "metadata": {},
   "outputs": [
    {
     "data": {
      "text/html": [
       "<div>\n",
       "<style scoped>\n",
       "    .dataframe tbody tr th:only-of-type {\n",
       "        vertical-align: middle;\n",
       "    }\n",
       "\n",
       "    .dataframe tbody tr th {\n",
       "        vertical-align: top;\n",
       "    }\n",
       "\n",
       "    .dataframe thead th {\n",
       "        text-align: right;\n",
       "    }\n",
       "</style>\n",
       "<table border=\"1\" class=\"dataframe\">\n",
       "  <thead>\n",
       "    <tr style=\"text-align: right;\">\n",
       "      <th></th>\n",
       "      <th>averageRating</th>\n",
       "      <th>numVotes</th>\n",
       "      <th>titleType</th>\n",
       "      <th>isAdult</th>\n",
       "      <th>runtimeMinutes</th>\n",
       "    </tr>\n",
       "  </thead>\n",
       "  <tbody>\n",
       "    <tr>\n",
       "      <th>1274</th>\n",
       "      <td>3.7</td>\n",
       "      <td>19</td>\n",
       "      <td>movie</td>\n",
       "      <td>0</td>\n",
       "      <td>56</td>\n",
       "    </tr>\n",
       "    <tr>\n",
       "      <th>3746</th>\n",
       "      <td>6.5</td>\n",
       "      <td>55</td>\n",
       "      <td>movie</td>\n",
       "      <td>0</td>\n",
       "      <td>69</td>\n",
       "    </tr>\n",
       "    <tr>\n",
       "      <th>3931</th>\n",
       "      <td>6.2</td>\n",
       "      <td>20</td>\n",
       "      <td>movie</td>\n",
       "      <td>0</td>\n",
       "      <td>102</td>\n",
       "    </tr>\n",
       "    <tr>\n",
       "      <th>4042</th>\n",
       "      <td>7.1</td>\n",
       "      <td>1250</td>\n",
       "      <td>movie</td>\n",
       "      <td>0</td>\n",
       "      <td>81</td>\n",
       "    </tr>\n",
       "    <tr>\n",
       "      <th>4442</th>\n",
       "      <td>7.2</td>\n",
       "      <td>11</td>\n",
       "      <td>short</td>\n",
       "      <td>0</td>\n",
       "      <td>14</td>\n",
       "    </tr>\n",
       "    <tr>\n",
       "      <th>4631</th>\n",
       "      <td>7.1</td>\n",
       "      <td>49</td>\n",
       "      <td>movie</td>\n",
       "      <td>0</td>\n",
       "      <td>74</td>\n",
       "    </tr>\n",
       "    <tr>\n",
       "      <th>4659</th>\n",
       "      <td>6.1</td>\n",
       "      <td>261</td>\n",
       "      <td>movie</td>\n",
       "      <td>0</td>\n",
       "      <td>108</td>\n",
       "    </tr>\n",
       "    <tr>\n",
       "      <th>4671</th>\n",
       "      <td>7.0</td>\n",
       "      <td>8</td>\n",
       "      <td>movie</td>\n",
       "      <td>0</td>\n",
       "      <td>\\N</td>\n",
       "    </tr>\n",
       "    <tr>\n",
       "      <th>4710</th>\n",
       "      <td>6.7</td>\n",
       "      <td>14</td>\n",
       "      <td>movie</td>\n",
       "      <td>0</td>\n",
       "      <td>\\N</td>\n",
       "    </tr>\n",
       "    <tr>\n",
       "      <th>4711</th>\n",
       "      <td>6.2</td>\n",
       "      <td>6</td>\n",
       "      <td>movie</td>\n",
       "      <td>0</td>\n",
       "      <td>72</td>\n",
       "    </tr>\n",
       "    <tr>\n",
       "      <th>4713</th>\n",
       "      <td>7.0</td>\n",
       "      <td>1601</td>\n",
       "      <td>short</td>\n",
       "      <td>0</td>\n",
       "      <td>28</td>\n",
       "    </tr>\n",
       "    <tr>\n",
       "      <th>4738</th>\n",
       "      <td>5.7</td>\n",
       "      <td>2331</td>\n",
       "      <td>movie</td>\n",
       "      <td>0</td>\n",
       "      <td>80</td>\n",
       "    </tr>\n",
       "    <tr>\n",
       "      <th>4739</th>\n",
       "      <td>7.0</td>\n",
       "      <td>14</td>\n",
       "      <td>movie</td>\n",
       "      <td>0</td>\n",
       "      <td>60</td>\n",
       "    </tr>\n",
       "    <tr>\n",
       "      <th>4751</th>\n",
       "      <td>6.4</td>\n",
       "      <td>164</td>\n",
       "      <td>short</td>\n",
       "      <td>0</td>\n",
       "      <td>7</td>\n",
       "    </tr>\n",
       "    <tr>\n",
       "      <th>4760</th>\n",
       "      <td>6.1</td>\n",
       "      <td>480</td>\n",
       "      <td>short</td>\n",
       "      <td>0</td>\n",
       "      <td>17</td>\n",
       "    </tr>\n",
       "  </tbody>\n",
       "</table>\n",
       "</div>"
      ],
      "text/plain": [
       "      averageRating  numVotes titleType  isAdult runtimeMinutes\n",
       "1274            3.7        19     movie        0             56\n",
       "3746            6.5        55     movie        0             69\n",
       "3931            6.2        20     movie        0            102\n",
       "4042            7.1      1250     movie        0             81\n",
       "4442            7.2        11     short        0             14\n",
       "4631            7.1        49     movie        0             74\n",
       "4659            6.1       261     movie        0            108\n",
       "4671            7.0         8     movie        0             \\N\n",
       "4710            6.7        14     movie        0             \\N\n",
       "4711            6.2         6     movie        0             72\n",
       "4713            7.0      1601     short        0             28\n",
       "4738            5.7      2331     movie        0             80\n",
       "4739            7.0        14     movie        0             60\n",
       "4751            6.4       164     short        0              7\n",
       "4760            6.1       480     short        0             17"
      ]
     },
     "execution_count": 5,
     "metadata": {},
     "output_type": "execute_result"
    }
   ],
   "source": [
    "# Eliminate TV Shows\n",
    "movie_data = movie_data[(movie_data.titleType == 'movie') | (movie_data.titleType == 'short') | (movie_data.titleType == 'tvMovie')]\n",
    "# Shape: (395863, 11)\n",
    "\n",
    "# Limit to only years with talkies\n",
    "movie_data = movie_data[movie_data.startYear != '\\\\N']\n",
    "movie_data.startYear = movie_data.startYear.astype(int)\n",
    "movie_data = movie_data[movie_data.startYear > 1927]\n",
    "# Shape: (383612, 11)\n",
    "\n",
    "# Remove unnecessary columns\n",
    "movie_data.drop('originalTitle', axis=1, inplace=True)\n",
    "movie_data.drop('endYear', axis=1, inplace=True)\n",
    "movie_data.drop('startYear', axis=1, inplace=True)\n",
    "movie_data.drop('tconst', axis=1, inplace=True)\n",
    "movie_data.drop('primaryTitle', axis=1, inplace=True)\n",
    "movie_data.drop('genres', axis=1, inplace=True)\n",
    "# I am working to one hot encode the genres column. It requires a custom function.\n",
    "movie_data.head(15)"
   ]
  },
  {
   "cell_type": "markdown",
   "metadata": {},
   "source": [
    "There are some values in this data that are not NaN. We need to convert them before dropping them."
   ]
  },
  {
   "cell_type": "code",
   "execution_count": 6,
   "metadata": {},
   "outputs": [],
   "source": [
    "# Convert \\\\N to NaN\n",
    "movie_data = movie_data[movie_data != r'\\N']"
   ]
  },
  {
   "cell_type": "code",
   "execution_count": 7,
   "metadata": {},
   "outputs": [
    {
     "data": {
      "text/plain": [
       "averageRating         0\n",
       "numVotes              0\n",
       "titleType             0\n",
       "isAdult               0\n",
       "runtimeMinutes    46557\n",
       "dtype: int64"
      ]
     },
     "execution_count": 7,
     "metadata": {},
     "output_type": "execute_result"
    }
   ],
   "source": [
    "# Check to see how many NaN values we have now that we've dropped the /N entries\n",
    "movie_data.isna().sum()"
   ]
  },
  {
   "cell_type": "code",
   "execution_count": 8,
   "metadata": {},
   "outputs": [
    {
     "data": {
      "text/plain": [
       "averageRating     0\n",
       "numVotes          0\n",
       "titleType         0\n",
       "isAdult           0\n",
       "runtimeMinutes    0\n",
       "dtype: int64"
      ]
     },
     "execution_count": 8,
     "metadata": {},
     "output_type": "execute_result"
    }
   ],
   "source": [
    "# Remove any observations with null values\n",
    "movie_data.dropna(inplace=True)\n",
    "movie_data.isna().sum()"
   ]
  },
  {
   "cell_type": "markdown",
   "metadata": {},
   "source": [
    "### Save data for use in the next model"
   ]
  },
  {
   "cell_type": "code",
   "execution_count": 9,
   "metadata": {},
   "outputs": [],
   "source": [
    "movie_data.to_csv('movie_data.csv', index=False)"
   ]
  },
  {
   "cell_type": "markdown",
   "metadata": {},
   "source": [
    "## Visualization"
   ]
  },
  {
   "cell_type": "markdown",
   "metadata": {},
   "source": [
    "It is quite important to spend time visualizing your data in order to see any patterns or relations within it. We won't spend much time here mulling over plots, but I wanted to show at least one. The plot below should show the relationship between the number of votes a movie has its average rating. We can see that as the average rating increases a movie receives more votes."
   ]
  },
  {
   "cell_type": "code",
   "execution_count": 13,
   "metadata": {},
   "outputs": [
    {
     "data": {
      "text/plain": [
       "[<matplotlib.lines.Line2D at 0x7f91e375ed68>]"
      ]
     },
     "execution_count": 13,
     "metadata": {},
     "output_type": "execute_result"
    },
    {
     "data": {
      "image/png": "[encoded data removed]",
      "text/plain": [
       "<Figure size 1080x720 with 1 Axes>"
      ]
     },
     "metadata": {},
     "output_type": "display_data"
    }
   ],
   "source": [
    "# # Create a figure instance\n",
    "fig = plt.figure(1, figsize=(15, 10))\n",
    "\n",
    "# # Create an axes instance\n",
    "ax = fig.add_subplot(111)\n",
    "\n",
    "# plt.plot(movie_data.titleType, movie_data.numVotes, 'o')\n",
    "plt.plot(movie_data.averageRating, movie_data.numVotes, 'o')\n"
   ]
  },
  {
   "cell_type": "markdown",
   "metadata": {},
   "source": [
    "## Model Prep"
   ]
  },
  {
   "cell_type": "markdown",
   "metadata": {},
   "source": [
    "The simplest prediction type to grok is a binary outcome. Our data doesn't have a binary value, but we can create one. We will, of course, lose some granularity in the detail of our ratings system, but a binary value for \"likability\" may be enough to answer our business problem."
   ]
  },
  {
   "cell_type": "code",
   "execution_count": null,
   "metadata": {},
   "outputs": [],
   "source": [
    "# Create a binary dependent variable\n",
    "likable = movie_data.apply(lambda row: wu.label_rating(row), axis=1)\n",
    "movie_data = pd.concat([likable, movie_data], axis=1)\n",
    "movie_data.rename(columns={0:'likable'}, inplace=True)\n",
    "movie_data.drop('averageRating', axis=1, inplace=True)\n",
    "movie_data.head(15)"
   ]
  },
  {
   "cell_type": "markdown",
   "metadata": {},
   "source": [
    "We have another problematic column: the titleType column. This field indicates the type of film for each observation. There are only three possibilities movie, short, and tvMovie. We can use the *pandas* built in method *.get_dummies()* to create three dummy columns corresponding to the types. This is called one hot encoding, and it is necessary here because the xgboost algorithm requires its inputs to be numeric, not categorical."
   ]
  },
  {
   "cell_type": "code",
   "execution_count": null,
   "metadata": {},
   "outputs": [],
   "source": [
    "# One Hot Encode titleType column\n",
    "dummy_types = pd.get_dummies(movie_data['titleType'])\n",
    "movie_data = pd.concat([movie_data, dummy_types.reindex(movie_data.index)], axis=1)\n",
    "movie_data.drop('titleType', axis=1, inplace=True)\n",
    "\n",
    "movie_data.head(15)"
   ]
  },
  {
   "cell_type": "code",
   "execution_count": null,
   "metadata": {},
   "outputs": [],
   "source": [
    "# Now that we have only numbers in runtimeMinutes, we can convert to int\n",
    "movie_data['runtimeMinutes'] = movie_data['runtimeMinutes'].astype(int)\n",
    "movie_data['movie'] = movie_data['movie'].astype(int)\n",
    "movie_data['short'] = movie_data['short'].astype(int)\n",
    "movie_data['tvMovie'] = movie_data['tvMovie'].astype(int)\n",
    "movie_data.dtypes"
   ]
  },
  {
   "cell_type": "markdown",
   "metadata": {},
   "source": [
    "### A note about splitting data"
   ]
  },
  {
   "cell_type": "markdown",
   "metadata": {},
   "source": [
    "Our data needs to be divided into three pieces. We need a subset of our observations for training the model on, a subset to evaluate the effectiveness of the model, and a subset to test our hosted endpoint. Typically, data is divided between test and validation at a proportion of 70% training to 30% validation. Here, it will be 70% training, 20% validation, and 10% test.\n",
    "\n",
    "The split function below is rather unintuitive. The *.sample()* method is randomly sorting the columns so they are not in a particular order. Then the *.split()* method is dividing the dataset at the 70% mark and the 90% mark, resulting in three new datasets."
   ]
  },
  {
   "cell_type": "code",
   "execution_count": 12,
   "metadata": {},
   "outputs": [
    {
     "name": "stdout",
     "output_type": "stream",
     "text": [
      "Movie Train Shape: (235938, 5)\n",
      "Movie Eval Shape: (67411, 5)\n",
      "Movie Test Shape: (33706, 5)\n"
     ]
    }
   ],
   "source": [
    "movie_train, movie_eval, movie_test = np.split(movie_data.sample(frac=1, random_state=1278), [int(0.7 * len(movie_data)), int(0.9 * len(movie_data))])\n",
    "print(f'Movie Train Shape: {movie_train.shape}')\n",
    "print(f'Movie Eval Shape: {movie_eval.shape}')\n",
    "print(f'Movie Test Shape: {movie_test.shape}')"
   ]
  },
  {
   "cell_type": "code",
   "execution_count": null,
   "metadata": {},
   "outputs": [],
   "source": [
    "movie_train.dtypes"
   ]
  },
  {
   "cell_type": "markdown",
   "metadata": {},
   "source": [
    "Now that we have our individual data sets, we need to store them in S3 to be retrievable by SageMaker when it creates our training instance."
   ]
  },
  {
   "cell_type": "code",
   "execution_count": null,
   "metadata": {},
   "outputs": [],
   "source": [
    "movie_train.to_csv('movie_train.csv', header=False, index=False)\n",
    "train_upload = f'movies/artifacts/{your_name}/movie_train.csv'\n",
    "s3.Bucket(bucket).Object(train_upload).upload_file('movie_train.csv')"
   ]
  },
  {
   "cell_type": "code",
   "execution_count": null,
   "metadata": {},
   "outputs": [],
   "source": [
    "movie_eval.to_csv('movie_eval.csv', header=False, index=False)\n",
    "eval_upload = f'movies/artifacts/{your_name}/movie_eval.csv'\n",
    "s3.Bucket(bucket).Object(eval_upload).upload_file('movie_eval.csv')"
   ]
  },
  {
   "cell_type": "markdown",
   "metadata": {},
   "source": [
    "## Create ML resources"
   ]
  },
  {
   "cell_type": "markdown",
   "metadata": {},
   "source": [
    "The designation of the 'xgboost' container below is the indicator that we are using the xgboost algorithm. The SageMaker Python SDK provides an Estimator class for creatng model resources. This is quite similar to TensorFlow except the type of model is designated by the container image we pass into the class. If it were necessary, we could provision multiple training instances to perform the work faster, but in this example a single instance will do."
   ]
  },
  {
   "cell_type": "code",
   "execution_count": null,
   "metadata": {},
   "outputs": [],
   "source": [
    "container = get_image_uri('us-west-2', 'xgboost', '0.90-1')\n",
    "\n",
    "xgboost = sm.estimator.Estimator(\n",
    "    container,\n",
    "    role,\n",
    "    base_job_name=f'{your_name}-ml-im',\n",
    "    train_instance_count=1,\n",
    "    train_instance_type='ml.m5.large',\n",
    "    output_path=f's3://{bucket}/movies/artifacts/{your_name}/output',\n",
    "    sagemaker_session=sm_session)"
   ]
  },
  {
   "cell_type": "code",
   "execution_count": 10,
   "metadata": {},
   "outputs": [],
   "source": [
    "# sc_pos_weight = sum(negative cases) / sum(positive cases)"
   ]
  },
  {
   "cell_type": "markdown",
   "metadata": {},
   "source": [
    "### A note about hyperparameters\n",
    "\n",
    "Hyperparameters control the execution of the algorithm being used to train the model. There are many hyperparameters available for the built in xgboost algorithm, but we are only setting six.\n",
    "\n",
    "**max_depth**: maximum depth of a tree. a higher value can induce overfitting.\n",
    "\n",
    "**eta**: shrinks the feature weights during each step. this is useful for preventing overfitting because a higher value makes the boosting more conservative (take smaller steps)\n",
    "\n",
    "**subsample**: sets the amount of data sampled for each tree grown.\n",
    "\n",
    "**objective**: specifies the learning task and type\n",
    "\n",
    "**scale_pos_weight**: controls the balance of weighting between positive and negative weights\n",
    "\n",
    "**num_round**: number of training rounds\n",
    "\n",
    "For more details on the xgboost hyperparameters, check: https://docs.aws.amazon.com/sagemaker/latest/dg/xgboost_hyperparameters.html"
   ]
  },
  {
   "cell_type": "code",
   "execution_count": null,
   "metadata": {},
   "outputs": [],
   "source": [
    "xgboost.set_hyperparameters(\n",
    "    max_depth=3,\n",
    "    eta=0.1,\n",
    "    subsample=0.5,\n",
    "    objective='binary:logistic',\n",
    "    scale_pos_weight=2.0,\n",
    "    num_round=100)"
   ]
  },
  {
   "cell_type": "markdown",
   "metadata": {},
   "source": [
    "The *.fit()* method will map data from our locations to the specific channels recognized by the xgboost container. The SageMaker service will then spin up a training instance based on the training attributes we specified when the Estimator was created. This is a syncronous call, so you should see training validation return here in the notebook."
   ]
  },
  {
   "cell_type": "code",
   "execution_count": null,
   "metadata": {},
   "outputs": [],
   "source": [
    "train_data = sm.s3_input(s3_data=f's3://{bucket}/{train_upload}', content_type='csv')\n",
    "eval_data = sm.s3_input(s3_data=f's3://{bucket}/{eval_upload}', content_type='csv')\n",
    "\n",
    "xgboost.fit({'train': train_data, 'validation': eval_data})"
   ]
  },
  {
   "cell_type": "markdown",
   "metadata": {},
   "source": [
    "## Deploy model"
   ]
  },
  {
   "cell_type": "markdown",
   "metadata": {},
   "source": [
    "Now that we have a successfully trained model in SageMaker (you can go verify this in the AWS console), we need to \"deploy\" this model. The *.deploy()* method will instruct SageMaker to create a hosting instance of our desired size to present our model behind an endpoint."
   ]
  },
  {
   "cell_type": "code",
   "execution_count": null,
   "metadata": {},
   "outputs": [],
   "source": [
    "xgboost_predict = xgboost.deploy(\n",
    "    initial_instance_count=1,\n",
    "    instance_type='ml.m5.large')\n",
    "xgboost_predict.content_type = 'text/csv'\n",
    "xgboost_predict.deserializer = None"
   ]
  },
  {
   "cell_type": "code",
   "execution_count": null,
   "metadata": {},
   "outputs": [],
   "source": [
    "# We need to drop the label column in order to retreive inferences for this data\n",
    "movie_test.drop('likable', axis=1, inplace=True)\n",
    "movie_test.to_csv('movie_test.csv', header=False, index=False)\n",
    "movie_test.head(15)"
   ]
  },
  {
   "cell_type": "markdown",
   "metadata": {},
   "source": [
    "The return value of the *.deploy()* method is the SageMaker endpoint resource. We can use this endpoint resource to retreive inferences of our test data."
   ]
  },
  {
   "cell_type": "code",
   "execution_count": null,
   "metadata": {},
   "outputs": [],
   "source": [
    "with open('movie_test.csv', 'r') as file:\n",
    "    payload = file.read().strip()\n",
    "\n",
    "test_data = [line for line in payload.split('\\n')]\n",
    "preds = wu.do_predict(test_data, xgboost_predict)\n",
    "print(preds)"
   ]
  },
  {
   "cell_type": "markdown",
   "metadata": {},
   "source": [
    "## Delete endpoint when done"
   ]
  },
  {
   "cell_type": "code",
   "execution_count": null,
   "metadata": {},
   "outputs": [],
   "source": [
    "sm_session.delete_endpoint(xgboost_predict.endpoint)"
   ]
  }
 ],
 "metadata": {
  "kernelspec": {
   "display_name": "conda_python3",
   "language": "python",
   "name": "conda_python3"
  },
  "language_info": {
   "codemirror_mode": {
    "name": "ipython",
    "version": 3
   },
   "file_extension": ".py",
   "mimetype": "text/x-python",
   "name": "python",
   "nbconvert_exporter": "python",
   "pygments_lexer": "ipython3",
   "version": "3.6.5"
  }
 },
 "nbformat": 4,
 "nbformat_minor": 2
}
